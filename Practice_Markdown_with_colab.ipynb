{
  "cells": [
    {
      "cell_type": "markdown",
      "metadata": {
        "id": "view-in-github",
        "colab_type": "text"
      },
      "source": [
        "<a href=\"https://colab.research.google.com/github/garimasood6/practice-repo/blob/main/Practice_Markdown_with_colab.ipynb\" target=\"_parent\"><img src=\"https://colab.research.google.com/assets/colab-badge.svg\" alt=\"Open In Colab\"/></a>"
      ]
    },
    {
      "cell_type": "markdown",
      "metadata": {
        "id": "UfcCTpMElOTf"
      },
      "source": [
        "## Practice Markdown"
      ]
    },
    {
      "cell_type": "markdown",
      "metadata": {
        "id": "E11Wx1BClOTf"
      },
      "source": [
        "This notebook lets you experiment with producing repeatable technical documentation.  Use this notebook to do the following actions:\n",
        "\n",
        "* Create a code cell and print a Python Hello World statement:  `print(\"hello world\")`\n",
        "* Create a Markdown Cell and add a Title using `#` and then a statement using plain text.  You can looks at the source code for this cell to get an idea of how to use Markdown.\n",
        "* Take some ideas from the [Master Markdown Github Guide](https://guides.github.com/features/mastering-markdown/) and implement them here.\n",
        "* Download this notebook as a `.ipynb` file and check into a Github Project.  You can [see an example here](https://github.com/noahgift/duke-coursera-ccf-lab1/blob/main/Practice-Markdown.ipynb).\n",
        "* Open your notebook in Google Colab and save it into the same Github Project.  You can [see an example here](https://github.com/noahgift/duke-coursera-ccf-lab1/blob/main/Practice_Markdown_with_colab.ipynb).\n"
      ]
    },
    {
      "cell_type": "code",
      "execution_count": null,
      "metadata": {
        "id": "ZlKDj5oslOTg",
        "outputId": "e6ef28a7-abf9-4b56-e872-12c53e360801"
      },
      "outputs": [
        {
          "name": "stdout",
          "output_type": "stream",
          "text": [
            "hello world\n"
          ]
        }
      ],
      "source": [
        "print(\"hello world\")"
      ]
    },
    {
      "cell_type": "markdown",
      "metadata": {
        "id": "b6nIyClelOTh"
      },
      "source": [
        "# This practice markdown"
      ]
    },
    {
      "cell_type": "markdown",
      "metadata": {
        "id": "ribkanRJlOTh"
      },
      "source": [
        "## This is a subheading"
      ]
    },
    {
      "cell_type": "markdown",
      "metadata": {
        "id": "Pxjh7fcNlOTh"
      },
      "source": [
        "Adding a subscript is interesting as we need to add `<sub>` at the start and `</sub>` at the end of the phrase. This is my <sub>subscript</sub>"
      ]
    },
    {
      "cell_type": "markdown",
      "metadata": {
        "id": "gySnGCsclOTh"
      },
      "source": [
        "We can bold words by adding two asterix at front and back of the phrace. **this is bold text**"
      ]
    },
    {
      "cell_type": "markdown",
      "metadata": {
        "id": "CuDait79lOTh"
      },
      "source": [
        "Slack uses same formats for `quoting the variables` or"
      ]
    },
    {
      "cell_type": "markdown",
      "metadata": {
        "id": "gEk-dAyolOTh"
      },
      "source": [
        "\n",
        "```\n",
        "quoting a piece of code\n",
        "```"
      ]
    },
    {
      "cell_type": "markdown",
      "metadata": {
        "id": "5VRHWcv9lOTh"
      },
      "source": [
        "A very interesting learning was adding links - example [this](https://docs.github.com/en/get-started/writing-on-github/getting-started-with-writing-and-formatting-on-github/basic-writing-and-formatting-syntax) is the ***Markdown Guide*** I am workimg with"
      ]
    },
    {
      "cell_type": "markdown",
      "metadata": {
        "id": "wSWG3jh1lOTh"
      },
      "source": [
        "Interesting learnings to be applied when working with Readme.md in git:\n",
        "- adding images using issues\n",
        "    + this will apply after I have uploaded file to github and know the <sup>structure</sup> of repository\n",
        "* adding relative links"
      ]
    },
    {
      "cell_type": "markdown",
      "metadata": {
        "id": "32okVh4wlOTh"
      },
      "source": [
        "OMG!! Checkboxes are the most inerested find till now!!\n",
        "- [ ] Checkbox 1\n",
        "- [x] Checked checkbox 1\n",
        "- [x] Now i kow how to check checkboxes in markdown"
      ]
    },
    {
      "cell_type": "markdown",
      "metadata": {
        "id": "QC_QO5dBlOTh"
      },
      "source": [
        "> [!NOTE]\n",
        "> This markdown contains cool features I am learning as a part of this assignment. Howver the stated syntax is not giving the right output\n",
        "\n",
        "\n",
        "> [!IMPORTANT]\n",
        "> MAke sure to come back to [the documentation page](https://docs.github.com/en/get-started/writing-on-github/getting-started-with-writing-and-formatting-on-github/basic-writing-and-formatting-syntax) whenever writing a new marksdown.\n",
        "\n",
        "> [!WARNING]\n",
        "> Urgent info that needs immediate user attention to avoid problems.\n",
        "\n",
        "> [!CAUTION]\n",
        "> Advises about risks or negative outcomes of certain actions.\n"
      ]
    },
    {
      "cell_type": "markdown",
      "metadata": {
        "id": "_rdlEH5rlOTh"
      },
      "source": [
        "> **NOTE**\n",
        "\n",
        "> maybe i can use this format"
      ]
    },
    {
      "cell_type": "code",
      "execution_count": null,
      "metadata": {
        "id": "98DTlsMBlOTh"
      },
      "outputs": [],
      "source": []
    }
  ],
  "metadata": {
    "kernelspec": {
      "display_name": "Python 3",
      "language": "python",
      "name": "python3"
    },
    "language_info": {
      "codemirror_mode": {
        "name": "ipython",
        "version": 3
      },
      "file_extension": ".py",
      "mimetype": "text/x-python",
      "name": "python",
      "nbconvert_exporter": "python",
      "pygments_lexer": "ipython3",
      "version": "3.7.6"
    },
    "colab": {
      "provenance": [],
      "include_colab_link": true
    }
  },
  "nbformat": 4,
  "nbformat_minor": 0
}